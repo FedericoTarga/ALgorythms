{
 "cells": [
  {
   "cell_type": "markdown",
   "id": "cdc06303",
   "metadata": {},
   "source": [
    "Non Repeating Number\n",
    "---"
   ]
  },
  {
   "cell_type": "code",
   "execution_count": 1,
   "id": "99c795ef",
   "metadata": {},
   "outputs": [
    {
     "name": "stdout",
     "output_type": "stream",
     "text": [
      "------------------------------------\n",
      "| Date & Hour: 2023-08-14 08:55:03 |\n",
      "------------------------------------\n",
      "------------------------------------\n",
      "     |Author:  Federico Targa |\n",
      "------------------------------------\n"
     ]
    }
   ],
   "source": [
    "from datetime import datetime\n",
    "current_date_time = datetime.now()\n",
    "formatted_date_time = current_date_time.strftime(\"%Y-%m-%d %H:%M:%S\")\n",
    "author = 'Federico Targa'\n",
    "print('------------------------------------')\n",
    "print(\"| Date & Hour:\", formatted_date_time,'|')\n",
    "print('------------------------------------')\n",
    "print('------------------------------------')\n",
    "print('     |Author: ', author                 ,'|')\n",
    "print('------------------------------------')"
   ]
  },
  {
   "cell_type": "markdown",
   "id": "392eecdf",
   "metadata": {},
   "source": [
    "Given an array A containing 2*N+2 positive numbers, out of which 2*N numbers exist in pairs whereas the other two number occur exactly once and are distinct. Find the other two numbers. Return in increasing order."
   ]
  },
  {
   "cell_type": "markdown",
   "id": "2cde8751",
   "metadata": {},
   "source": [
    "- Example 1:\n",
    "Input: N = 2 , arr = [1, 2, 3, 2, 1, 4]\n",
    "Output: 3 4 \n",
    "Explanation:\n",
    "3 and 4 occur exactly once.\n",
    "\n",
    "- Example 2:\n",
    "Input:N = 1 , arr = [2, 1, 3, 2]\n",
    "Output: 1 3\n",
    "Explanation: 1 3 occur exactly once."
   ]
  },
  {
   "cell_type": "markdown",
   "id": "654492f8",
   "metadata": {},
   "source": [
    "We could solve this problem using XOR bitwise operation. The idea is to XOR all the numbers in the array. \n",
    "Since XOR of two same numbers is 0, the XOR of all the pairs will cancel out, leaving you with the XOR of the two distinct numbers. Once you have this XOR result, you can find the rightmost set bit (1) in the XOR result, which will indicate a differing bit between the two distinct numbers. Then, you can separate the array elements into two groups based on whether that particular bit is set or not. Each group will contain one of the distinct numbers."
   ]
  },
  {
   "cell_type": "markdown",
   "id": "a0e720bc",
   "metadata": {},
   "source": [
    "1st Implementation:\n",
    "---"
   ]
  },
  {
   "cell_type": "code",
   "execution_count": 2,
   "id": "825c9cfa",
   "metadata": {},
   "outputs": [],
   "source": [
    "def findDistinctNumbers(arr):\n",
    "    xor_result = 0\n",
    "\n",
    "    # XOR all the numbers in the array\n",
    "    for num in arr:\n",
    "        xor_result ^= num\n",
    "\n",
    "    # Find the rightmost set bit in XOR result\n",
    "    rightmost_set_bit = xor_result & -xor_result\n",
    "\n",
    "    # Initialize the distinct numbers\n",
    "    distinct_1 = 0\n",
    "    distinct_2 = 0\n",
    "\n",
    "    # Divide the array into two groups based on the rightmost set bit\n",
    "    for num in arr:\n",
    "        if num & rightmost_set_bit:\n",
    "            distinct_1 ^= num\n",
    "        else:\n",
    "            distinct_2 ^= num\n",
    "\n",
    "    # Return the distinct numbers in increasing order\n",
    "    return [min(distinct_1, distinct_2), max(distinct_1, distinct_2)]\n"
   ]
  },
  {
   "cell_type": "markdown",
   "id": "762530ca",
   "metadata": {},
   "source": [
    "Test\n",
    "---"
   ]
  },
  {
   "cell_type": "code",
   "execution_count": 3,
   "id": "2d9a81ba",
   "metadata": {},
   "outputs": [
    {
     "name": "stdout",
     "output_type": "stream",
     "text": [
      "The number/s that occours exactly one are/is:  [3, 4]\n"
     ]
    }
   ],
   "source": [
    "N = 2\n",
    "arr = [1, 2, 3, 2, 1, 4]\n",
    "result = findDistinctNumbers(arr)\n",
    "print('The number/s that occours exactly one are/is: ', result)"
   ]
  },
  {
   "cell_type": "markdown",
   "id": "5f2b7b64",
   "metadata": {},
   "source": [
    "2nd Implementation\n",
    "--"
   ]
  },
  {
   "cell_type": "code",
   "execution_count": 4,
   "id": "2a49bbef",
   "metadata": {},
   "outputs": [],
   "source": [
    "class Solution:\n",
    "    def singleNumber(self, nums):\n",
    "        xor_result = 0\n",
    "\n",
    "        # XOR all the numbers in the array\n",
    "        for num in nums:\n",
    "            xor_result ^= num\n",
    "\n",
    "        # Find the rightmost set bit in XOR result\n",
    "        rightmost_set_bit = xor_result & -xor_result\n",
    "\n",
    "        # Initialize the distinct numbers\n",
    "        distinct_1 = 0\n",
    "        distinct_2 = 0\n",
    "\n",
    "        # Divide the array into two groups based on the rightmost set bit\n",
    "        for num in nums:\n",
    "            if num & rightmost_set_bit:\n",
    "                distinct_1 ^= num\n",
    "            else:\n",
    "                distinct_2 ^= num\n",
    "\n",
    "        # Return the distinct numbers in increasing order\n",
    "        return [min(distinct_1, distinct_2), max(distinct_1, distinct_2)]"
   ]
  },
  {
   "cell_type": "code",
   "execution_count": 5,
   "id": "ed1b81b1",
   "metadata": {},
   "outputs": [
    {
     "name": "stdout",
     "output_type": "stream",
     "text": [
      "The number/s that occours exactly one are/is:  [1, 3]\n"
     ]
    }
   ],
   "source": [
    "solution = Solution()\n",
    "nums =  [2, 1, 3, 2]\n",
    "result = solution.singleNumber(nums)\n",
    "print('The number/s that occours exactly one are/is: ', result)"
   ]
  },
  {
   "cell_type": "markdown",
   "id": "cfc85f13",
   "metadata": {},
   "source": [
    "In this code, you're defining a class named Solution with a method called singleNumber. The purpose of this method is to find the two distinct numbers that occur exactly once in the given nums array.\n",
    "\n",
    "- xor_result is initialized to 0. This variable will be used to store the result of XORing all the elements in the nums array.\n",
    "\n",
    "- The loop iterates through each number num in the nums array and XORs it with the current value of xor_result. This is done to accumulate the XOR of all the elements in the array.\n",
    "\n",
    "        # Find the rightmost set bit in XOR result\n",
    "        rightmost_set_bit = xor_result & -xor_result\n",
    "\n",
    "\n",
    "----------------------------------------------------------------------------------------------------------------------\n",
    "\n",
    "After XORing all the elements, xor_result will hold the XOR of the two distinct numbers. The next step is to find the rightmost set bit (the least significant bit that is 1) in the xor_result. This is done using the & (bitwise AND) operation with the negation of xor_result.\n",
    "\n",
    "        # Initialize the distinct numbers\n",
    "        distinct_1 = 0\n",
    "        distinct_2 = 0\n",
    "        \n",
    "Here, two variables distinct_1 and distinct_2 are initialized to 0. These variables will be used to store the two distinct numbers.\n",
    "\n",
    "----------------------------------------------------------------------------------------------------------------------\n",
    "       # Divide the array into two groups based on the rightmost set bit\n",
    "        for num in nums:\n",
    "            if num & rightmost_set_bit:\n",
    "                distinct_1 ^= num\n",
    "            else:\n",
    "                distinct_2 ^= num\n",
    "Now, the loop iterates through each number num in the nums array again. It checks whether the num has the rightmost set bit by performing a bitwise AND with rightmost_set_bit.\n",
    "\n",
    "- If num & rightmost_set_bit is not equal to 0 (meaning num has the rightmost set bit), then it's XORed with distinct_1.\n",
    "\n",
    "- If num & rightmost_set_bit is equal to 0 (meaning num doesn't have the rightmost set bit), then it's XORed with distinct_2.\n",
    "\n",
    "This way, you're dividing the array into two groups based on whether the numbers have the rightmost set bit or not.\n",
    "\n",
    "\n",
    "----------------------------------------------------------------------------------------------------------------------\n",
    "\n",
    "        # Return the distinct numbers in increasing order\n",
    "        return [min(distinct_1, distinct_2), max(distinct_1, distinct_2)]\n",
    "\n",
    "Finally, the method returns a list containing the two distinct numbers in increasing order. The min and max functions are used to ensure that the numbers are arranged in the correct order.\n",
    "\n",
    "Overall, this algorithm uses XOR bitwise operations to efficiently find the two distinct numbers in the given array. It leverages the properties of XOR to cancel out the paired numbers and isolate the distinct ones."
   ]
  }
 ],
 "metadata": {
  "kernelspec": {
   "display_name": "Python 3 (ipykernel)",
   "language": "python",
   "name": "python3"
  },
  "language_info": {
   "codemirror_mode": {
    "name": "ipython",
    "version": 3
   },
   "file_extension": ".py",
   "mimetype": "text/x-python",
   "name": "python",
   "nbconvert_exporter": "python",
   "pygments_lexer": "ipython3",
   "version": "3.10.9"
  }
 },
 "nbformat": 4,
 "nbformat_minor": 5
}

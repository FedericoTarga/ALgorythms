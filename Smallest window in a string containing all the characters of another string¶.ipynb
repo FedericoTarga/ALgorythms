{
 "cells": [
  {
   "cell_type": "markdown",
   "id": "a5657be9",
   "metadata": {},
   "source": [
    "Smallest window in a string containing all the characters of another string\n",
    "--"
   ]
  },
  {
   "cell_type": "code",
   "execution_count": 1,
   "id": "afb68aec",
   "metadata": {},
   "outputs": [
    {
     "name": "stdout",
     "output_type": "stream",
     "text": [
      "------------------------------------\n",
      "| Date & Hour: 2023-08-14 09:42:48 |\n",
      "------------------------------------\n",
      "------------------------------------\n",
      "     |Author:  Federico Targa |\n",
      "------------------------------------\n"
     ]
    }
   ],
   "source": [
    "from datetime import datetime\n",
    "current_date_time = datetime.now()\n",
    "formatted_date_time = current_date_time.strftime(\"%Y-%m-%d %H:%M:%S\")\n",
    "author = 'Federico Targa'\n",
    "print('------------------------------------')\n",
    "print(\"| Date & Hour:\", formatted_date_time,'|')\n",
    "print('------------------------------------')\n",
    "print('------------------------------------')\n",
    "print('     |Author: ', author                 ,'|')\n",
    "print('------------------------------------')"
   ]
  },
  {
   "cell_type": "markdown",
   "id": "2cb82a46",
   "metadata": {},
   "source": [
    "Given two strings S and P. Find the smallest window in the string S consisting of all the characters(including duplicates) of the string P.  Return \"-1\" in case there is no such window present. In case there are multiple such windows of same length, return the one with the least starting index.\n",
    "Note : All characters are in Lowercase alphabets. "
   ]
  },
  {
   "cell_type": "markdown",
   "id": "3ff26a66",
   "metadata": {},
   "source": [
    "- Example 1\n",
    "  - Input: S = \"timetopractice\" , P = \"toc\"\n",
    "  - Output: toprac\n",
    "  - Explanation: \"toprac\" is the smallest substring in which \"toc\" can be found."
   ]
  },
  {
   "cell_type": "markdown",
   "id": "94dc4550",
   "metadata": {},
   "source": [
    "- Example 2\n",
    "  - Input: S = \"zoomlazapzo\" , P = \"oza\"\n",
    "  - Output: \"apzo\"\n",
    "  - Explanation: \"apzo\" is the smallest substring in which \"oza\" can be found."
   ]
  },
  {
   "cell_type": "markdown",
   "id": "0e9b522f",
   "metadata": {},
   "source": [
    "1st IMPLEMENTATION\n",
    "--"
   ]
  },
  {
   "cell_type": "code",
   "execution_count": 2,
   "id": "cccbeb50",
   "metadata": {},
   "outputs": [],
   "source": [
    "def min_window_substring(S, P):\n",
    "    from collections import Counter\n",
    "    \n",
    "    # Count the characters in string P\n",
    "    char_count_P = Counter(P)\n",
    "    \n",
    "    # Initialize variables for the sliding window\n",
    "    left = 0\n",
    "    min_window_length = float('inf')\n",
    "    min_window_start = 0\n",
    "    required_chars = len(char_count_P)\n",
    "    formed_chars = 0\n",
    "    window_char_count = Counter()\n",
    "    \n",
    "    for right, char in enumerate(S):\n",
    "        # Add the current character to the window's character count\n",
    "        window_char_count[char] += 1\n",
    "        \n",
    "        # Check if the character is one of the required characters\n",
    "        if char in char_count_P and window_char_count[char] == char_count_P[char]:\n",
    "            formed_chars += 1\n",
    "        \n",
    "        # Try to minimize the window by moving the left pointer\n",
    "        while formed_chars == required_chars and left <= right:\n",
    "            if right - left + 1 < min_window_length:\n",
    "                min_window_length = right - left + 1\n",
    "                min_window_start = left\n",
    "            \n",
    "            left_char = S[left]\n",
    "            window_char_count[left_char] -= 1\n",
    "            \n",
    "            if left_char in char_count_P and window_char_count[left_char] < char_count_P[left_char]:\n",
    "                formed_chars -= 1\n",
    "            \n",
    "            left += 1\n",
    "    \n",
    "    # Return the smallest window substring or -1 if not found\n",
    "    if min_window_length == float('inf'):\n",
    "        return \"-1\"\n",
    "    else:\n",
    "        return S[min_window_start:min_window_start + min_window_length]\n"
   ]
  },
  {
   "cell_type": "markdown",
   "id": "a0879e2a",
   "metadata": {},
   "source": [
    "TEST\n",
    "--\n",
    "Replace the S and P strings with the ones you want to test."
   ]
  },
  {
   "cell_type": "code",
   "execution_count": 3,
   "id": "c9525905",
   "metadata": {},
   "outputs": [
    {
     "name": "stdout",
     "output_type": "stream",
     "text": [
      "banc\n"
     ]
    }
   ],
   "source": [
    "S = \"adobecodebanc\"\n",
    "P = \"abc\"\n",
    "print(min_window_substring(S, P))  # Output: \"banc\""
   ]
  },
  {
   "cell_type": "markdown",
   "id": "ee528244",
   "metadata": {},
   "source": [
    "2nd IMPLEMENTATION\n",
    "--"
   ]
  },
  {
   "cell_type": "code",
   "execution_count": 4,
   "id": "ad55be99",
   "metadata": {},
   "outputs": [],
   "source": [
    "class Solution:\n",
    "    \n",
    "    # Function to find the smallest window in the string s consisting\n",
    "    # of all the characters of string p.\n",
    "    def smallestWindow(self, s, p):\n",
    "        from collections import Counter\n",
    "\n",
    "        # Count the characters in string P\n",
    "        char_count_P = Counter(p)\n",
    "\n",
    "        # Initialize variables for the sliding window\n",
    "        left = 0\n",
    "        min_window_length = float('inf')\n",
    "        min_window_start = 0\n",
    "        required_chars = len(char_count_P)\n",
    "        formed_chars = 0\n",
    "        window_char_count = Counter()\n",
    "\n",
    "        for right, char in enumerate(s):\n",
    "            # Add the current character to the window's character count\n",
    "            window_char_count[char] += 1\n",
    "\n",
    "            # Check if the character is one of the required characters\n",
    "            if char in char_count_P and window_char_count[char] == char_count_P[char]:\n",
    "                formed_chars += 1\n",
    "\n",
    "            # Try to minimize the window by moving the left pointer\n",
    "            while formed_chars == required_chars and left <= right:\n",
    "                if right - left + 1 < min_window_length:\n",
    "                    min_window_length = right - left + 1\n",
    "                    min_window_start = left\n",
    "\n",
    "                left_char = s[left]\n",
    "                window_char_count[left_char] -= 1\n",
    "\n",
    "                if left_char in char_count_P and window_char_count[left_char] < char_count_P[left_char]:\n",
    "                    formed_chars -= 1\n",
    "\n",
    "                left += 1\n",
    "\n",
    "        # Return the smallest window substring or -1 if not found\n",
    "        if min_window_length == float('inf'):\n",
    "            return \"-1\"\n",
    "        else:\n",
    "            return s[min_window_start:min_window_start + min_window_length]"
   ]
  },
  {
   "cell_type": "markdown",
   "id": "82cb2500",
   "metadata": {},
   "source": [
    "TEST\n",
    "--\n",
    "Replace the S and P strings with the ones you want to test. This code snippet creates an instance of the Solution class, calls the smallestWindow function with the input strings, and then prints the result. The output should be the smallest window substring containing all characters from string p within string s."
   ]
  },
  {
   "cell_type": "code",
   "execution_count": 5,
   "id": "e9b0f3df",
   "metadata": {},
   "outputs": [
    {
     "name": "stdout",
     "output_type": "stream",
     "text": [
      "banc\n"
     ]
    }
   ],
   "source": [
    "# Instantiate the Solution class\n",
    "solution = Solution()\n",
    "\n",
    "# Example input strings\n",
    "S = \"adobecodebanc\"\n",
    "P = \"abc\"\n",
    "\n",
    "# Call the smallestWindow function\n",
    "result = solution.smallestWindow(S, P)\n",
    "\n",
    "# Print the result\n",
    "print(result)  # Output: \"banc\""
   ]
  }
 ],
 "metadata": {
  "kernelspec": {
   "display_name": "Python 3 (ipykernel)",
   "language": "python",
   "name": "python3"
  },
  "language_info": {
   "codemirror_mode": {
    "name": "ipython",
    "version": 3
   },
   "file_extension": ".py",
   "mimetype": "text/x-python",
   "name": "python",
   "nbconvert_exporter": "python",
   "pygments_lexer": "ipython3",
   "version": "3.10.9"
  }
 },
 "nbformat": 4,
 "nbformat_minor": 5
}

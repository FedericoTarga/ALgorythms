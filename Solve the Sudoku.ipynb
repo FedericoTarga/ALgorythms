{
 "cells": [
  {
   "cell_type": "markdown",
   "id": "1037b976",
   "metadata": {},
   "source": [
    "Solve the Sudoku\n",
    "--"
   ]
  },
  {
   "cell_type": "code",
   "execution_count": 1,
   "id": "89fe05e4",
   "metadata": {},
   "outputs": [
    {
     "name": "stdout",
     "output_type": "stream",
     "text": [
      "------------------------------------\n",
      "| Date & Hour: 2023-08-14 10:54:59 |\n",
      "------------------------------------\n",
      "------------------------------------\n",
      "     |Author:  Federico Targa |\n",
      "------------------------------------\n"
     ]
    }
   ],
   "source": [
    "from datetime import datetime\n",
    "current_date_time = datetime.now()\n",
    "formatted_date_time = current_date_time.strftime(\"%Y-%m-%d %H:%M:%S\")\n",
    "author = 'Federico Targa'\n",
    "print('------------------------------------')\n",
    "print(\"| Date & Hour:\", formatted_date_time,'|')\n",
    "print('------------------------------------')\n",
    "print('------------------------------------')\n",
    "print('     |Author: ', author                 ,'|')\n",
    "print('------------------------------------')"
   ]
  },
  {
   "cell_type": "markdown",
   "id": "01b3ec5a",
   "metadata": {},
   "source": [
    "Given an incomplete Sudoku configuration in terms of a 9 x 9  2-D square matrix (grid[][]), the task is to find a solved Sudoku. For simplicity, you may assume that there will be only one unique solution.\n",
    "\n",
    "A sudoku solution must satisfy all of the following rules:\n",
    "\n",
    "- Each of the digits 1-9 must occur exactly once in each row.\n",
    "- Each of the digits 1-9 must occur exactly once in each column.\n",
    "- Each of the digits 1-9 must occur exactly once in each of the 9 3x3 sub-boxes of the grid.\n",
    "\n",
    "Zeros in the grid indicates blanks, which are to be filled with some number between 1-9. You can not replace the element in the cell which is not blank. "
   ]
  },
  {
   "cell_type": "markdown",
   "id": "b98dd870",
   "metadata": {},
   "source": [
    "EXAMPLE 1\n",
    "--"
   ]
  },
  {
   "cell_type": "raw",
   "id": "7a9f8004",
   "metadata": {},
   "source": [
    "Input:\n",
    "grid = \n",
    "[[3 0 6 5 0 8 4 0 0],\n",
    "[5 2 0 0 0 0 0 0 0],\n",
    "[0 8 7 0 0 0 0 3 1 ],\n",
    "[0 0 3 0 1 0 0 8 0],\n",
    "[9 0 0 8 6 3 0 0 5],\n",
    "[0 5 0 0 9 0 6 0 0],\n",
    "[1 3 0 0 0 0 2 5 0],\n",
    "[0 0 0 0 0 0 0 7 4],\n",
    "[0 0 5 2 0 6 3 0 0]]\n",
    "\n",
    "Output: True\n",
    "3 1 6 5 7 8 4 9 2\n",
    "5 2 9 1 3 4 7 6 8\n",
    "4 8 7 6 2 9 5 3 1\n",
    "2 6 3 4 1 5 9 8 7\n",
    "9 7 4 8 6 3 1 2 5\n",
    "8 5 1 7 9 2 6 4 3\n",
    "1 3 8 9 4 7 2 5 6\n",
    "6 9 2 3 5 1 8 7 4\n",
    "7 4 5 2 8 6 3 1 9\n",
    "\n",
    "Explanation: There exists a valid Sudoku for the input grid, which is shown in output."
   ]
  },
  {
   "cell_type": "markdown",
   "id": "c1094e5c",
   "metadata": {},
   "source": [
    "EXAMPLE 2\n",
    "--"
   ]
  },
  {
   "cell_type": "raw",
   "id": "fc52e5b5",
   "metadata": {},
   "source": [
    "Input:\n",
    "grid = \n",
    "[[3 6 6 5 0 8 4 0 0],\n",
    "[5 2 0 0 0 0 0 0 0],\n",
    "[0 8 7 0 0 0 0 3 1 ],\n",
    "[0 0 3 0 1 0 0 8 0],\n",
    "[9 0 0 8 6 3 0 0 5],\n",
    "[0 5 0 0 9 0 6 0 0],\n",
    "[1 3 0 0 0 0 2 5 0],\n",
    "[0 0 0 0 0 0 0 7 4],\n",
    "[0 0 5 2 0 6 3 0 0]]\n",
    "\n",
    "Output:False\n",
    "\n",
    "Explanation: There does not exists a valid Sudoku for the input grid, since there are two 6s in the first row. Which cannot replaced."
   ]
  },
  {
   "cell_type": "raw",
   "id": "b5727009",
   "metadata": {},
   "source": [
    "You need to complete the two functions:\n",
    "\n",
    "SolveSudoku(): Takes a grid as its argument and returns true if a solution is possible and false if it is not, on returning false driver will print \"No solution exists\".\n",
    "\n",
    "printGrid(): Takes a grid as its argument and prints the 81 numbers of the solved Sudoku in a single line with space separation. Do not give a new line character after printing the grid.\n",
    "\n",
    "Expected Time Complexity: O(9^(N*N)).\n",
    "Expected Auxiliary Space: O(N*N).\n",
    "\n",
    "Constraints:\n",
    "0 ≤ grid[i][j] ≤ 9\n"
   ]
  },
  {
   "cell_type": "markdown",
   "id": "4c7f7fea",
   "metadata": {},
   "source": [
    "IMPLEMENTATION\n",
    "--"
   ]
  },
  {
   "cell_type": "code",
   "execution_count": 2,
   "id": "daabd303",
   "metadata": {},
   "outputs": [
    {
     "name": "stdout",
     "output_type": "stream",
     "text": [
      "The execution time is equal to:  0.00109172 [s]\n"
     ]
    }
   ],
   "source": [
    "import time\n",
    "\n",
    "start_time = time.time()\n",
    "\n",
    "class Solution:\n",
    "\n",
    "    # Function to find a solved Sudoku.\n",
    "    def SolveSudoku(self, grid):\n",
    "        empty_cell = self.find_empty_cell(grid)\n",
    "        if not empty_cell:\n",
    "            return True  # All cells are filled, solution is found\n",
    "        \n",
    "        row, col = empty_cell\n",
    "        \n",
    "        for num in range(1, 10):\n",
    "            if self.is_valid_move(grid, row, col, num):\n",
    "                grid[row][col] = num\n",
    "                \n",
    "                if self.SolveSudoku(grid):\n",
    "                    return True\n",
    "                \n",
    "                grid[row][col] = 0  # Reset if no solution is found\n",
    "                \n",
    "        return False\n",
    "    \n",
    "    # Function to check if placing num at grid[row][col] is valid\n",
    "    def is_valid_move(self, grid, row, col, num):\n",
    "        # Check if num is in the row or column\n",
    "        for i in range(9):\n",
    "            if grid[row][i] == num or grid[i][col] == num:\n",
    "                return False\n",
    "        \n",
    "        # Check if num is in the 3x3 sub-grid\n",
    "        start_row, start_col = row - row % 3, col - col % 3\n",
    "        for i in range(3):\n",
    "            for j in range(3):\n",
    "                if grid[i + start_row][j + start_col] == num:\n",
    "                    return False\n",
    "        \n",
    "        return True\n",
    "    \n",
    "    # Function to find an empty cell in the grid\n",
    "    def find_empty_cell(self, grid):\n",
    "        for i in range(9):\n",
    "            for j in range(9):\n",
    "                if grid[i][j] == 0:\n",
    "                    return i, j\n",
    "        return None\n",
    "    \n",
    "    # Function to print the solved Sudoku grid\n",
    "    def printGrid(self, arr):\n",
    "        for i in range(9):\n",
    "            for j in range(9):\n",
    "                print(arr[i][j], end=\" \")\n",
    "                if j == 2 or j == 5:\n",
    "                    print(\"|\", end=\" \")  # Separate sub-grids\n",
    "            print()\n",
    "            if i == 2 or i == 5:\n",
    "                print(\"-\" * 21)  # Separate sub-grids\n",
    "                \n",
    "end_time = time.time()\n",
    "\n",
    "print('The execution time is equal to: ', round(end_time - start_time, 8), '[s]')"
   ]
  },
  {
   "cell_type": "markdown",
   "id": "5abcf4f3",
   "metadata": {},
   "source": [
    "TEST 1\n",
    "--"
   ]
  },
  {
   "cell_type": "code",
   "execution_count": 3,
   "id": "be7189aa",
   "metadata": {
    "scrolled": true
   },
   "outputs": [
    {
     "name": "stdout",
     "output_type": "stream",
     "text": [
      "3 1 6 | 5 7 8 | 4 9 2 \n",
      "5 2 9 | 1 3 4 | 7 6 8 \n",
      "4 8 7 | 6 2 9 | 5 3 1 \n",
      "---------------------\n",
      "2 6 3 | 4 1 5 | 9 8 7 \n",
      "9 7 4 | 8 6 3 | 1 2 5 \n",
      "8 5 1 | 7 9 2 | 6 4 3 \n",
      "---------------------\n",
      "1 3 8 | 9 4 7 | 2 5 6 \n",
      "6 9 2 | 3 5 1 | 8 7 4 \n",
      "7 4 5 | 2 8 6 | 3 1 9 \n"
     ]
    }
   ],
   "source": [
    "grid = [\n",
    "    [3, 0, 6, 5, 0, 8, 4, 0, 0],\n",
    "    [5, 2, 0, 0, 0, 0, 0, 0, 0],\n",
    "    [0, 8, 7, 0, 0, 0, 0, 3, 1],\n",
    "    [0, 0, 3, 0, 1, 0, 0, 8, 0],\n",
    "    [9, 0, 0, 8, 6, 3, 0, 0, 5],\n",
    "    [0, 5, 0, 0, 9, 0, 6, 0, 0],\n",
    "    [1, 3, 0, 0, 0, 0, 2, 5, 0],\n",
    "    [0, 0, 0, 0, 0, 0, 0, 7, 4],\n",
    "    [0, 0, 5, 2, 0, 6, 3, 0, 0]\n",
    "]\n",
    "\n",
    "solution = Solution()\n",
    "if solution.SolveSudoku(grid):\n",
    "    solution.printGrid(grid)\n",
    "else:\n",
    "    print(\"No solution exists.\")"
   ]
  },
  {
   "cell_type": "markdown",
   "id": "487608fe",
   "metadata": {},
   "source": [
    "TEST 2\n",
    "---"
   ]
  },
  {
   "cell_type": "code",
   "execution_count": 4,
   "id": "01e6e86e",
   "metadata": {},
   "outputs": [
    {
     "name": "stdout",
     "output_type": "stream",
     "text": [
      "No solution exists.\n"
     ]
    }
   ],
   "source": [
    "grid = [\n",
    "    [3, 6, 6, 5, 0, 8, 4, 0, 0],\n",
    "    [5, 2, 0, 0, 0, 0, 0, 0, 0],\n",
    "    [0, 8, 7, 0, 0, 0, 0, 3, 1],\n",
    "    [0, 0, 3, 0, 1, 0, 0, 8, 0],\n",
    "    [9, 0, 0, 8, 6, 3, 0, 0, 5],\n",
    "    [0, 5, 0, 0, 9, 0, 6, 0, 0],\n",
    "    [1, 3, 0, 0, 0, 0, 2, 5, 0],\n",
    "    [0, 0, 0, 0, 0, 0, 0, 7, 4],\n",
    "    [0, 0, 5, 2, 0, 6, 3, 0, 0]\n",
    "]\n",
    "\n",
    "solution = Solution()\n",
    "if solution.SolveSudoku(grid):\n",
    "    solution.printGrid(grid)\n",
    "else:\n",
    "    print(\"No solution exists.\")"
   ]
  },
  {
   "cell_type": "markdown",
   "id": "79bcbbdf",
   "metadata": {},
   "source": [
    "TEST 3\n",
    "--"
   ]
  },
  {
   "cell_type": "code",
   "execution_count": 5,
   "id": "f08e73d2",
   "metadata": {},
   "outputs": [
    {
     "name": "stdout",
     "output_type": "stream",
     "text": [
      "5 3 4 | 6 7 8 | 9 1 2 \n",
      "6 7 2 | 1 9 5 | 3 4 8 \n",
      "1 9 8 | 3 4 2 | 5 6 7 \n",
      "---------------------\n",
      "8 5 9 | 7 6 1 | 4 2 3 \n",
      "4 2 6 | 8 5 3 | 7 9 1 \n",
      "7 1 3 | 9 2 4 | 8 5 6 \n",
      "---------------------\n",
      "9 6 1 | 5 3 7 | 2 8 4 \n",
      "2 8 7 | 4 1 9 | 6 3 5 \n",
      "3 4 5 | 2 8 6 | 1 7 9 \n"
     ]
    }
   ],
   "source": [
    "grid = [\n",
    "    [5, 3, 0, 0, 7, 0, 0, 0, 0],\n",
    "    [6, 0, 0, 1, 9, 5, 0, 0, 0],\n",
    "    [0, 9, 8, 0, 0, 0, 0, 6, 0],\n",
    "    [8, 0, 0, 0, 6, 0, 0, 0, 3],\n",
    "    [4, 0, 0, 8, 0, 3, 0, 0, 1],\n",
    "    [7, 0, 0, 0, 2, 0, 0, 0, 6],\n",
    "    [0, 6, 0, 0, 0, 0, 2, 8, 0],\n",
    "    [0, 0, 0, 4, 1, 9, 0, 0, 5],\n",
    "    [0, 0, 0, 0, 8, 0, 0, 7, 9]\n",
    "]\n",
    "\n",
    "solution = Solution()\n",
    "if solution.SolveSudoku(grid):\n",
    "    solution.printGrid(grid)\n",
    "else:\n",
    "    print(\"No solution exists.\")"
   ]
  }
 ],
 "metadata": {
  "kernelspec": {
   "display_name": "Python 3 (ipykernel)",
   "language": "python",
   "name": "python3"
  },
  "language_info": {
   "codemirror_mode": {
    "name": "ipython",
    "version": 3
   },
   "file_extension": ".py",
   "mimetype": "text/x-python",
   "name": "python",
   "nbconvert_exporter": "python",
   "pygments_lexer": "ipython3",
   "version": "3.10.9"
  }
 },
 "nbformat": 4,
 "nbformat_minor": 5
}

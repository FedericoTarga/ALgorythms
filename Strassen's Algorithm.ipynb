{
 "cells": [
  {
   "cell_type": "markdown",
   "id": "e23de3be",
   "metadata": {},
   "source": [
    "STRASSEN'S ALGHORYTHM - Author: Federico Targa - 7th August 2023"
   ]
  },
  {
   "cell_type": "markdown",
   "id": "9d0bee92",
   "metadata": {},
   "source": [
    "Strassen's algorithm is a method for performing matrix multiplication that is more efficient than the traditional matrix multiplication algorithm (also known as the \"naive\" algorithm) for large matrices. It was developed by Volker Strassen in 1969 and is based on the concept of divide and conquer.\n",
    "\n",
    "The standard matrix multiplication algorithm has a time complexity of O(n^3) for multiplying two n x n matrices. Strassen's algorithm reduces this time complexity to approximately O(n^2.81), which is faster for large values of n."
   ]
  },
  {
   "cell_type": "markdown",
   "id": "8110c68c",
   "metadata": {},
   "source": [
    "HOW IT WORKS?"
   ]
  },
  {
   "cell_type": "raw",
   "id": "e8c5725b",
   "metadata": {},
   "source": [
    "# DIVIDE: Given two n x n matrices A and B that you want to multiply, each matrix is divided into four equal-sized submatrices\n",
    "\n",
    "A = | A11  A12 |    B = | B11  B12 |\n",
    "    |          |        |          |\n",
    "    | A21  A22 |        | B21  B22 |\n",
    "    \n",
    "Each of these submatrices has dimensions n/2 x n/2."
   ]
  },
  {
   "cell_type": "raw",
   "id": "459dda05",
   "metadata": {},
   "source": [
    "# CONQUER: Recursively compute seven matrix products using the submatrices:\n",
    "\n",
    "P1 = A11 * (B12 - B22)\n",
    "P2 = (A11 + A12) * B22\n",
    "P3 = (A21 + A22) * B11\n",
    "P4 = A22 * (B21 - B11)\n",
    "P5 = (A11 + A22) * (B11 + B22)\n",
    "P6 = (A12 - A22) * (B21 + B22)\n",
    "P7 = (A11 - A21) * (B11 + B12)"
   ]
  },
  {
   "cell_type": "raw",
   "id": "e2b64f1e",
   "metadata": {},
   "source": [
    "# COMBINE: Using the computed subproducts, construct the resulting matrix C:\n",
    "\n",
    "C11 = P5 + P4 - P2 + P6\n",
    "C12 = P1 + P2\n",
    "C21 = P3 + P4\n",
    "C22 = P5 + P1 - P3 - P7\n",
    "\n",
    "The resulting matrix C is the product of matrices A and B."
   ]
  },
  {
   "cell_type": "markdown",
   "id": "4bbe578f",
   "metadata": {},
   "source": [
    "In terms of understanding the algorithm, the key insight is that instead of performing eight separate matrix multiplications (as shown in the Combine step), Strassen's algorithm reduces the number of multiplications by computing the subproducts P1 to P7.\n",
    "\n",
    "The reason this algorithm is faster is that it replaces some matrix multiplications with additions and subtractions, which can be more efficient on modern computer architectures. However, the algorithm does have a higher constant factor due to the increased number of additions and subtractions, which means that it may not be faster than the naive algorithm for small matrix sizes.\n",
    "\n",
    "It's also important to note that while Strassen's algorithm provides a theoretical improvement in complexity, in practice, there are other matrix multiplication algorithms (such as the Coppersmith–Winograd algorithm) that can be even more efficient for very large matrices.\n",
    "\n",
    "Remember that the actual implementation of Strassen's algorithm may involve additional optimizations and considerations to handle various edge cases and ensure numerical stability."
   ]
  },
  {
   "cell_type": "code",
   "execution_count": null,
   "id": "87ab921a",
   "metadata": {},
   "outputs": [],
   "source": [
    "from datetime import datetime\n",
    "current_date_time = datetime.now()\n",
    "formatted_date_time = current_date_time.strftime(\"%Y-%m-%d %H:%M:%S\")\n",
    "author = 'Federico Targa'\n",
    "print('------------------------------------')\n",
    "print(\"| Date & Hour:\", formatted_date_time,'|')\n",
    "print('------------------------------------')\n",
    "print('------------------------------------')\n",
    "print('     |Author: ', author                 ,'|')\n",
    "print('------------------------------------')"
   ]
  },
  {
   "cell_type": "code",
   "execution_count": null,
   "id": "e771bbac",
   "metadata": {},
   "outputs": [],
   "source": [
    "def matrix_add(matrix1, matrix2):\n",
    "    return [[matrix1[i][j] + matrix2[i][j] for j in range(len(matrix1[0]))] for i in range(len(matrix1))]\n",
    "\n",
    "def matrix_subtract(matrix1, matrix2):\n",
    "    return [[matrix1[i][j] - matrix2[i][j] for j in range(len(matrix1[0]))] for i in range(len(matrix1))]\n",
    "\n",
    "def matrix_split(matrix):\n",
    "    mid = len(matrix) // 2\n",
    "    return (\n",
    "        [row[:mid] for row in matrix[:mid]],\n",
    "        [row[mid:] for row in matrix[:mid]],\n",
    "        [row[:mid] for row in matrix[mid:]],\n",
    "        [row[mid:] for row in matrix[mid:]]\n",
    "    )\n",
    "\n",
    "def strassen(matrix1, matrix2):\n",
    "    size = len(matrix1)\n",
    "    \n",
    "    if size == 1:\n",
    "        return [[matrix1[0][0] * matrix2[0][0]]]\n",
    "    \n",
    "    a11, a12, a21, a22 = matrix_split(matrix1)\n",
    "    b11, b12, b21, b22 = matrix_split(matrix2)\n",
    "    \n",
    "    p1 = strassen(matrix_add(a11, a22), matrix_add(b11, b22))\n",
    "    p2 = strassen(matrix_add(a21, a22), b11)\n",
    "    p3 = strassen(a11, matrix_subtract(b12, b22))\n",
    "    p4 = strassen(a22, matrix_subtract(b21, b11))\n",
    "    p5 = strassen(matrix_add(a11, a12), b22)\n",
    "    p6 = strassen(matrix_subtract(a21, a11), matrix_add(b11, b12))\n",
    "    p7 = strassen(matrix_subtract(a12, a22), matrix_add(b21, b22))\n",
    "    \n",
    "    c11 = matrix_add(matrix_subtract(matrix_add(p5, p4), p2), p6)\n",
    "    c12 = matrix_add(p1, p2)\n",
    "    c21 = matrix_add(p3, p4)\n",
    "    c22 = matrix_subtract(matrix_subtract(matrix_add(p1, p5), p3), p7)\n",
    "    \n",
    "    result = [[0] * size for _ in range(size)]\n",
    "    for i in range(size // 2):\n",
    "        for j in range(size // 2):\n",
    "            result[i][j] = c11[i][j]\n",
    "            result[i][j + size // 2] = c12[i][j]\n",
    "            result[i + size // 2][j] = c21[i][j]\n",
    "            result[i + size // 2][j + size // 2] = c22[i][j]\n",
    "    \n",
    "    return result\n",
    "\n",
    "def get_matrix_from_user(rows, cols):\n",
    "    return [\n",
    "        [int(input(f\"Enter value at position ({i}, {j}): \")) for j in range(cols)]\n",
    "        for i in range(rows)\n",
    "    ]\n",
    "\n",
    "if __name__ == \"__main__\":\n",
    "    rows = int(input(\"Enter the number of rows for the matrices: \"))\n",
    "    cols = int(input(\"Enter the number of columns for the matrices: \"))\n",
    "    \n",
    "    print(\"Enter the elements of the first matrix:\")\n",
    "    matrix1 = get_matrix_from_user(rows, cols)\n",
    "    \n",
    "    print(\"Enter the elements of the second matrix:\")\n",
    "    matrix2 = get_matrix_from_user(rows, cols)\n",
    "    \n",
    "    result = strassen(matrix1, matrix2)\n",
    "    \n",
    "    print(\"Resulting matrix:\")\n",
    "    for row in result:\n",
    "        print(row)"
   ]
  }
 ],
 "metadata": {
  "kernelspec": {
   "display_name": "Python 3 (ipykernel)",
   "language": "python",
   "name": "python3"
  },
  "language_info": {
   "codemirror_mode": {
    "name": "ipython",
    "version": 3
   },
   "file_extension": ".py",
   "mimetype": "text/x-python",
   "name": "python",
   "nbconvert_exporter": "python",
   "pygments_lexer": "ipython3",
   "version": "3.10.9"
  }
 },
 "nbformat": 4,
 "nbformat_minor": 5
}

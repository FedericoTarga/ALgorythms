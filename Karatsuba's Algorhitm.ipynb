{
 "cells": [
  {
   "cell_type": "code",
   "execution_count": null,
   "id": "676d5319",
   "metadata": {},
   "outputs": [],
   "source": [
    "from datetime import datetime\n",
    "current_date_time = datetime.now()\n",
    "formatted_date_time = current_date_time.strftime(\"%Y-%m-%d %H:%M:%S\")\n",
    "author = 'Federico Targa'\n",
    "print('------------------------------------')\n",
    "print(\"| Date & Hour:\", formatted_date_time,'|')\n",
    "print('------------------------------------')\n",
    "print('------------------------------------')\n",
    "print('     |Author: ', author                 ,'|')\n",
    "print('------------------------------------')"
   ]
  },
  {
   "cell_type": "code",
   "execution_count": null,
   "id": "d7bfac7c",
   "metadata": {
    "scrolled": false
   },
   "outputs": [],
   "source": [
    "def karatsuba_multiply(x, y):\n",
    "    x_str = str(x)\n",
    "    y_str = str(y)\n",
    "\n",
    "    if len(x_str) == 1 or len(y_str) == 1:\n",
    "        return x * y\n",
    "#--------------------------------------------------------------------------------------------------------------------\n",
    "    n = max(len(x_str), len(y_str))\n",
    "    m = n // 2\n",
    "\n",
    "    a = int(x_str[:-m]) if len(x_str) > m else 0\n",
    "    b = int(x_str[-m:])\n",
    "    c = int(y_str[:-m]) if len(y_str) > m else 0\n",
    "    d = int(y_str[-m:])\n",
    "#--------------------------------------------------------------------------------------------------------------------\n",
    "    ac = karatsuba_multiply(a, c)\n",
    "    bd = karatsuba_multiply(b, d)\n",
    "    ad_bc = karatsuba_multiply(a + b, c + d) - ac - bd\n",
    "\n",
    "    result = (10**(2 * m)) * ac + (10**m) * ad_bc + bd\n",
    "    return result\n",
    "\n",
    "A = 1234567890123456789012345678901234567890123456789012345678901234\n",
    "B = 5678901234567890123456789012345678901234567890123456789012345678\n",
    "\n",
    "#result_exponential = \"{:.2e}\".format(result)\n",
    "print(\"Stanadard result form: \", result)\n",
    "print('------------------------------------------------------------------------------------------------------------')\n",
    "print(\"Esponentilal result form: \", result_exponential)"
   ]
  },
  {
   "cell_type": "code",
   "execution_count": null,
   "id": "81c6ff50",
   "metadata": {},
   "outputs": [],
   "source": []
  }
 ],
 "metadata": {
  "kernelspec": {
   "display_name": "Python 3 (ipykernel)",
   "language": "python",
   "name": "python3"
  },
  "language_info": {
   "codemirror_mode": {
    "name": "ipython",
    "version": 3
   },
   "file_extension": ".py",
   "mimetype": "text/x-python",
   "name": "python",
   "nbconvert_exporter": "python",
   "pygments_lexer": "ipython3",
   "version": "3.10.9"
  }
 },
 "nbformat": 4,
 "nbformat_minor": 5
}
